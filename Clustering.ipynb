{
 "cells": [
  {
   "cell_type": "markdown",
   "id": "729c08cd-ad2e-48b6-b91d-6d4563cdef12",
   "metadata": {
    "tags": []
   },
   "source": [
    "\n",
    "# A case study on Clustering"
   ]
  },
  {
   "cell_type": "markdown",
   "id": "0be30193-e035-4723-93ce-21b4e10adc48",
   "metadata": {},
   "source": [
    "\n",
    "A supermarket called K-mart wants to analyse its customers. It wants to understand its customers, their spends, their marketing campaigns and make it easier for them to take business decisions and modify products and strategies accordingly.\n",
    "\n",
    "This process is called customer personality analysis. It helps businesses make decisions like instead of spending money to market a new product to every customer in the company’s database, a company can analyze which customer segment is most likely to buy the product and then market the product only on that particular segment.\n",
    "\n",
    "When analysing customers, its also valuable to cluster the customers into meaningful clusters so that we can make our decisions accordingly and make customer cluster specific decisions. We want to be in a position where we can try different strategies for different customer clusters.\n",
    "You are the official Data scientist of the K-mart and are given the task to do the customer personality analysis and also do the clustering of the customers."
   ]
  },
  {
   "cell_type": "markdown",
   "id": "ee8ef3ad-0d9b-4b21-ae0f-6103ac8b4562",
   "metadata": {
    "tags": []
   },
   "source": [
    "**_People_**\n",
    "\n",
    "**ID**: Customer's unique identifier\n",
    "\n",
    "**Year_Birth:** Customer's birth year\n",
    "\n",
    "**Education:** Customer's education level\n",
    "\n",
    "**Marital_Status:** Customer's marital status\n",
    "\n",
    "**Income:** Customer's yearly household income\n",
    "\n",
    "**Kidhome:** Number of children in customer's household\n",
    "\n",
    "**Teenhome:** Number of teenagers in customer's household\n",
    "\n",
    "**Dt_Customer:** Date of customer's enrollment with the company\n",
    "\n",
    "**Recency:** Number of days since customer's last purchase\n",
    "\n",
    "**Complain:** 1 if the customer complained in the last 2 years, 0 otherwise\n",
    "\n",
    "**_Products_**\n",
    "\n",
    "**MntWines:** Amount spent on wine in last 2 years\n",
    "\n",
    "**MntFruits:** Amount spent on fruits in last 2 years\n",
    "\n",
    "**MntMeatProducts:** Amount spent on meat in last 2 years\n",
    "\n",
    "**MntFishProducts:** Amount spent on fish in last 2 years\n",
    "\n",
    "**MntSweetProducts:** Amount spent on sweets in last 2 years\n",
    "\n",
    "**MntGoldProds:** Amount spent on gold in last 2 years\n",
    "\n",
    "_Promotion_\n",
    "\n",
    "**NumDealsPurchases:** Number of purchases made with a discount\n",
    "\n",
    "**AcceptedCmp1:** 1 if customer accepted the offer in the 1st campaign, 0 otherwise\n",
    "\n",
    "**AcceptedCmp2:** 1 if customer accepted the offer in the 2nd campaign, 0 otherwise\n",
    "\n",
    "**AcceptedCmp3:** 1 if customer accepted the offer in the 3rd campaign, 0 otherwise\n",
    "\n",
    "**AcceptedCmp4:** 1 if customer accepted the offer in the 4th campaign, 0 otherwise\n",
    "\n",
    "**AcceptedCmp5:** 1 if customer accepted the offer in the 5th campaign, 0 otherwise\n",
    "\n",
    "**Response:** 1 if customer accepted the offer in the last campaign, 0 otherwise\n",
    "\n",
    "**_Place_**\n",
    "\n",
    "**NumWebPurchases:** Number of purchases made through the company’s website\n",
    "\n",
    "**NumCatalogPurchases:** Number of purchases made using a catalogue\n",
    "\n",
    "**NumStorePurchases:** Number of purchases made directly in stores\n",
    "\n",
    "**NumWebVisitsMonth:** Number of visits to company’s website in the last month"
   ]
  },
  {
   "cell_type": "code",
   "execution_count": 1,
   "id": "49eb4c5e-918b-4756-8a3b-d0436ba72479",
   "metadata": {},
   "outputs": [],
   "source": [
    "# IMPORT THE LIBRARIES....\n",
    "import pandas as pd\n",
    "import numpy as np\n",
    "import matplotlib.pyplot as plt\n",
    "import seaborn as sns"
   ]
  },
  {
   "cell_type": "code",
   "execution_count": 4,
   "id": "9a4afc24-cf5c-4919-99cc-3de8f3d51eaf",
   "metadata": {},
   "outputs": [
    {
     "data": {
      "text/html": [
       "<div>\n",
       "<style scoped>\n",
       "    .dataframe tbody tr th:only-of-type {\n",
       "        vertical-align: middle;\n",
       "    }\n",
       "\n",
       "    .dataframe tbody tr th {\n",
       "        vertical-align: top;\n",
       "    }\n",
       "\n",
       "    .dataframe thead th {\n",
       "        text-align: right;\n",
       "    }\n",
       "</style>\n",
       "<table border=\"1\" class=\"dataframe\">\n",
       "  <thead>\n",
       "    <tr style=\"text-align: right;\">\n",
       "      <th></th>\n",
       "      <th>ID</th>\n",
       "      <th>Year_Birth</th>\n",
       "      <th>Education</th>\n",
       "      <th>Marital_Status</th>\n",
       "      <th>Income</th>\n",
       "      <th>Kidhome</th>\n",
       "      <th>Teenhome</th>\n",
       "      <th>Dt_Customer</th>\n",
       "      <th>Recency</th>\n",
       "      <th>MntWines</th>\n",
       "      <th>...</th>\n",
       "      <th>NumWebVisitsMonth</th>\n",
       "      <th>AcceptedCmp3</th>\n",
       "      <th>AcceptedCmp4</th>\n",
       "      <th>AcceptedCmp5</th>\n",
       "      <th>AcceptedCmp1</th>\n",
       "      <th>AcceptedCmp2</th>\n",
       "      <th>Complain</th>\n",
       "      <th>Z_CostContact</th>\n",
       "      <th>Z_Revenue</th>\n",
       "      <th>Response</th>\n",
       "    </tr>\n",
       "  </thead>\n",
       "  <tbody>\n",
       "    <tr>\n",
       "      <th>0</th>\n",
       "      <td>5524</td>\n",
       "      <td>1957</td>\n",
       "      <td>Graduation</td>\n",
       "      <td>Single</td>\n",
       "      <td>58138.0</td>\n",
       "      <td>0</td>\n",
       "      <td>0</td>\n",
       "      <td>04-09-2012</td>\n",
       "      <td>58</td>\n",
       "      <td>635</td>\n",
       "      <td>...</td>\n",
       "      <td>7</td>\n",
       "      <td>0</td>\n",
       "      <td>0</td>\n",
       "      <td>0</td>\n",
       "      <td>0</td>\n",
       "      <td>0</td>\n",
       "      <td>0</td>\n",
       "      <td>3</td>\n",
       "      <td>11</td>\n",
       "      <td>1</td>\n",
       "    </tr>\n",
       "    <tr>\n",
       "      <th>1</th>\n",
       "      <td>2174</td>\n",
       "      <td>1954</td>\n",
       "      <td>Graduation</td>\n",
       "      <td>Single</td>\n",
       "      <td>46344.0</td>\n",
       "      <td>1</td>\n",
       "      <td>1</td>\n",
       "      <td>08-03-2014</td>\n",
       "      <td>38</td>\n",
       "      <td>11</td>\n",
       "      <td>...</td>\n",
       "      <td>5</td>\n",
       "      <td>0</td>\n",
       "      <td>0</td>\n",
       "      <td>0</td>\n",
       "      <td>0</td>\n",
       "      <td>0</td>\n",
       "      <td>0</td>\n",
       "      <td>3</td>\n",
       "      <td>11</td>\n",
       "      <td>0</td>\n",
       "    </tr>\n",
       "  </tbody>\n",
       "</table>\n",
       "<p>2 rows × 29 columns</p>\n",
       "</div>"
      ],
      "text/plain": [
       "     ID  Year_Birth   Education Marital_Status   Income  Kidhome  Teenhome  \\\n",
       "0  5524        1957  Graduation         Single  58138.0        0         0   \n",
       "1  2174        1954  Graduation         Single  46344.0        1         1   \n",
       "\n",
       "  Dt_Customer  Recency  MntWines  ...  NumWebVisitsMonth  AcceptedCmp3  \\\n",
       "0  04-09-2012       58       635  ...                  7             0   \n",
       "1  08-03-2014       38        11  ...                  5             0   \n",
       "\n",
       "   AcceptedCmp4  AcceptedCmp5  AcceptedCmp1  AcceptedCmp2  Complain  \\\n",
       "0             0             0             0             0         0   \n",
       "1             0             0             0             0         0   \n",
       "\n",
       "   Z_CostContact  Z_Revenue  Response  \n",
       "0              3         11         1  \n",
       "1              3         11         0  \n",
       "\n",
       "[2 rows x 29 columns]"
      ]
     },
     "execution_count": 4,
     "metadata": {},
     "output_type": "execute_result"
    }
   ],
   "source": [
    "# Load the data\n",
    "df=pd.read_csv(r\"C:\\Users\\mukhe\\OneDrive\\Desktop\\ML&DL\\CaseStudies\\Clustering\\marketing_campaign.csv\",sep='\\t')\n",
    "df.head(2)"
   ]
  },
  {
   "cell_type": "code",
   "execution_count": 5,
   "id": "dc7b13f8-7318-46fc-9ab8-f59ebf2c9b75",
   "metadata": {},
   "outputs": [
    {
     "name": "stdout",
     "output_type": "stream",
     "text": [
      "<class 'pandas.core.frame.DataFrame'>\n",
      "RangeIndex: 2240 entries, 0 to 2239\n",
      "Data columns (total 29 columns):\n",
      " #   Column               Non-Null Count  Dtype  \n",
      "---  ------               --------------  -----  \n",
      " 0   ID                   2240 non-null   int64  \n",
      " 1   Year_Birth           2240 non-null   int64  \n",
      " 2   Education            2240 non-null   object \n",
      " 3   Marital_Status       2240 non-null   object \n",
      " 4   Income               2216 non-null   float64\n",
      " 5   Kidhome              2240 non-null   int64  \n",
      " 6   Teenhome             2240 non-null   int64  \n",
      " 7   Dt_Customer          2240 non-null   object \n",
      " 8   Recency              2240 non-null   int64  \n",
      " 9   MntWines             2240 non-null   int64  \n",
      " 10  MntFruits            2240 non-null   int64  \n",
      " 11  MntMeatProducts      2240 non-null   int64  \n",
      " 12  MntFishProducts      2240 non-null   int64  \n",
      " 13  MntSweetProducts     2240 non-null   int64  \n",
      " 14  MntGoldProds         2240 non-null   int64  \n",
      " 15  NumDealsPurchases    2240 non-null   int64  \n",
      " 16  NumWebPurchases      2240 non-null   int64  \n",
      " 17  NumCatalogPurchases  2240 non-null   int64  \n",
      " 18  NumStorePurchases    2240 non-null   int64  \n",
      " 19  NumWebVisitsMonth    2240 non-null   int64  \n",
      " 20  AcceptedCmp3         2240 non-null   int64  \n",
      " 21  AcceptedCmp4         2240 non-null   int64  \n",
      " 22  AcceptedCmp5         2240 non-null   int64  \n",
      " 23  AcceptedCmp1         2240 non-null   int64  \n",
      " 24  AcceptedCmp2         2240 non-null   int64  \n",
      " 25  Complain             2240 non-null   int64  \n",
      " 26  Z_CostContact        2240 non-null   int64  \n",
      " 27  Z_Revenue            2240 non-null   int64  \n",
      " 28  Response             2240 non-null   int64  \n",
      "dtypes: float64(1), int64(25), object(3)\n",
      "memory usage: 507.6+ KB\n"
     ]
    }
   ],
   "source": [
    "# Understand the data\n",
    "df.info()"
   ]
  },
  {
   "cell_type": "code",
   "execution_count": 6,
   "id": "21cf600e-724a-4d08-b53a-751d185a375f",
   "metadata": {},
   "outputs": [
    {
     "data": {
      "text/plain": [
       "(2240, 29)"
      ]
     },
     "execution_count": 6,
     "metadata": {},
     "output_type": "execute_result"
    }
   ],
   "source": [
    "# Lets check out this dataset's shape\n",
    "df.shape"
   ]
  },
  {
   "cell_type": "markdown",
   "id": "772cfa5a-390f-4194-a2da-cde77481cbd2",
   "metadata": {},
   "source": [
    "Oops! 29 columns that's a lot of columns"
   ]
  },
  {
   "cell_type": "markdown",
   "id": "833d2f86-041a-40e2-9f59-0a56b86c83a1",
   "metadata": {},
   "source": [
    "# Exploratory Data Analysis\n",
    "\n",
    "We are going to do the customer personality analysis in this section"
   ]
  },
  {
   "cell_type": "markdown",
   "id": "da2d4def-891a-4067-8819-5554b295a078",
   "metadata": {},
   "source": [
    "## Handling nulls and datatypes"
   ]
  },
  {
   "cell_type": "code",
   "execution_count": 11,
   "id": "90954990-2265-4cde-a3d7-703e7603cbbd",
   "metadata": {},
   "outputs": [
    {
     "data": {
      "text/plain": [
       "ID                     0\n",
       "Year_Birth             0\n",
       "Education              0\n",
       "Marital_Status         0\n",
       "Income                 0\n",
       "Kidhome                0\n",
       "Teenhome               0\n",
       "Dt_Customer            0\n",
       "Recency                0\n",
       "MntWines               0\n",
       "MntFruits              0\n",
       "MntMeatProducts        0\n",
       "MntFishProducts        0\n",
       "MntSweetProducts       0\n",
       "MntGoldProds           0\n",
       "NumDealsPurchases      0\n",
       "NumWebPurchases        0\n",
       "NumCatalogPurchases    0\n",
       "NumStorePurchases      0\n",
       "NumWebVisitsMonth      0\n",
       "AcceptedCmp3           0\n",
       "AcceptedCmp4           0\n",
       "AcceptedCmp5           0\n",
       "AcceptedCmp1           0\n",
       "AcceptedCmp2           0\n",
       "Complain               0\n",
       "Z_CostContact          0\n",
       "Z_Revenue              0\n",
       "Response               0\n",
       "dtype: int64"
      ]
     },
     "execution_count": 11,
     "metadata": {},
     "output_type": "execute_result"
    }
   ],
   "source": [
    "df.isna().sum()"
   ]
  },
  {
   "cell_type": "markdown",
   "id": "444df4cf-2883-4633-b083-2d56959f5bbc",
   "metadata": {},
   "source": [
    "So we could see income as the column which has missing and about 1% of the data is missing"
   ]
  },
  {
   "cell_type": "code",
   "execution_count": 10,
   "id": "b4df1314-44d8-496c-9bd0-56eb459683c5",
   "metadata": {
    "tags": []
   },
   "outputs": [],
   "source": [
    "# Replace the missing values with mean\n",
    "\n",
    "df['Income'].fillna(df['Income'].mean(),inplace=True)"
   ]
  },
  {
   "cell_type": "code",
   "execution_count": 14,
   "id": "c7fd21a6-d460-45f3-b652-0785b07b0ab1",
   "metadata": {},
   "outputs": [],
   "source": [
    "df['Dt_Customer']=pd.to_datetime(df['Dt_Customer'],dayfirst=True)"
   ]
  },
  {
   "cell_type": "code",
   "execution_count": 15,
   "id": "9b0585c7-b491-4956-8c89-377cbbe91fb7",
   "metadata": {},
   "outputs": [
    {
     "name": "stdout",
     "output_type": "stream",
     "text": [
      "<class 'pandas.core.frame.DataFrame'>\n",
      "RangeIndex: 2240 entries, 0 to 2239\n",
      "Data columns (total 29 columns):\n",
      " #   Column               Non-Null Count  Dtype         \n",
      "---  ------               --------------  -----         \n",
      " 0   ID                   2240 non-null   int64         \n",
      " 1   Year_Birth           2240 non-null   int64         \n",
      " 2   Education            2240 non-null   object        \n",
      " 3   Marital_Status       2240 non-null   object        \n",
      " 4   Income               2240 non-null   float64       \n",
      " 5   Kidhome              2240 non-null   int64         \n",
      " 6   Teenhome             2240 non-null   int64         \n",
      " 7   Dt_Customer          2240 non-null   datetime64[ns]\n",
      " 8   Recency              2240 non-null   int64         \n",
      " 9   MntWines             2240 non-null   int64         \n",
      " 10  MntFruits            2240 non-null   int64         \n",
      " 11  MntMeatProducts      2240 non-null   int64         \n",
      " 12  MntFishProducts      2240 non-null   int64         \n",
      " 13  MntSweetProducts     2240 non-null   int64         \n",
      " 14  MntGoldProds         2240 non-null   int64         \n",
      " 15  NumDealsPurchases    2240 non-null   int64         \n",
      " 16  NumWebPurchases      2240 non-null   int64         \n",
      " 17  NumCatalogPurchases  2240 non-null   int64         \n",
      " 18  NumStorePurchases    2240 non-null   int64         \n",
      " 19  NumWebVisitsMonth    2240 non-null   int64         \n",
      " 20  AcceptedCmp3         2240 non-null   int64         \n",
      " 21  AcceptedCmp4         2240 non-null   int64         \n",
      " 22  AcceptedCmp5         2240 non-null   int64         \n",
      " 23  AcceptedCmp1         2240 non-null   int64         \n",
      " 24  AcceptedCmp2         2240 non-null   int64         \n",
      " 25  Complain             2240 non-null   int64         \n",
      " 26  Z_CostContact        2240 non-null   int64         \n",
      " 27  Z_Revenue            2240 non-null   int64         \n",
      " 28  Response             2240 non-null   int64         \n",
      "dtypes: datetime64[ns](1), float64(1), int64(25), object(2)\n",
      "memory usage: 507.6+ KB\n"
     ]
    }
   ],
   "source": [
    "df.info()"
   ]
  },
  {
   "cell_type": "markdown",
   "id": "ac8f23e5-ca3c-4be2-b68f-3bcd466a69cd",
   "metadata": {},
   "source": [
    "## Analysing People"
   ]
  },
  {
   "cell_type": "markdown",
   "id": "4900f861-8de5-43d7-ad04-d3cff5950ce2",
   "metadata": {
    "tags": []
   },
   "source": [
    "Lets look at the kids data of customers.\n",
    "When it comes to kids, 2 possible columns exist in our data.\n",
    "Teenhome and Kidhome. We can look at them and possibly combine them to make a new column instead of 2."
   ]
  },
  {
   "cell_type": "code",
   "execution_count": 19,
   "id": "ae4648c7-1f10-4078-9179-cbd86294fd14",
   "metadata": {
    "tags": []
   },
   "outputs": [],
   "source": [
    "df['Children']=df['Teenhome']+df['Kidhome']"
   ]
  },
  {
   "cell_type": "code",
   "execution_count": 20,
   "id": "a50754b6-f6a9-44a6-ba5d-d35f33d2f475",
   "metadata": {
    "tags": []
   },
   "outputs": [],
   "source": [
    "df.drop(['Teenhome','Kidhome'],inplace=True,axis=1)"
   ]
  },
  {
   "cell_type": "code",
   "execution_count": 30,
   "id": "5aa25a41-0b02-4fb3-85a8-aad327a61d02",
   "metadata": {},
   "outputs": [
    {
     "data": {
      "image/png": "[encoded data removed]",
      "text/plain": [
       "<Figure size 600x200 with 1 Axes>"
      ]
     },
     "metadata": {},
     "output_type": "display_data"
    }
   ],
   "source": [
    "# df.groupby('Children')[['ID']].count()\n",
    "plt.figure(figsize=(6,2))\n",
    "sns.histplot(x=df['Children'],color='lime')\n",
    "plt.show()"
   ]
  },
  {
   "cell_type": "markdown",
   "id": "641c1dd6-ae0d-41bc-979e-cef11c9d4593",
   "metadata": {},
   "source": [
    "Interestingly most people have just 1 kid"
   ]
  },
  {
   "cell_type": "markdown",
   "id": "c054aaf4-c94a-4bba-80de-e55fb35ed5db",
   "metadata": {},
   "source": [
    "## Analysing Products"
   ]
  },
  {
   "cell_type": "markdown",
   "id": "6f268928-43a0-4180-9e39-62b8a476021b",
   "metadata": {},
   "source": [
    "So products data is all about how much people spent on each unique category of products.\n",
    "We can either look at the amount spent at each of them or simply get a bigger picture by combining them all.\n",
    "\n",
    "Individually looking them all may not give us enough insight because those are just numbers, we can combine them and analyse them like a continous variable."
   ]
  },
  {
   "cell_type": "code",
   "execution_count": 32,
   "id": "3d051811-fa25-489d-8a33-feff1dcfda68",
   "metadata": {
    "tags": []
   },
   "outputs": [],
   "source": [
    "products=[]\n",
    "for col in df.columns:\n",
    "    if 'Mnt' in col:\n",
    "        products.append(col)"
   ]
  },
  {
   "cell_type": "code",
   "execution_count": 33,
   "id": "470e7826-14d6-4d69-9b5d-f45d842b83df",
   "metadata": {},
   "outputs": [
    {
     "data": {
      "text/plain": [
       "['MntWines',\n",
       " 'MntFruits',\n",
       " 'MntMeatProducts',\n",
       " 'MntFishProducts',\n",
       " 'MntSweetProducts',\n",
       " 'MntGoldProds']"
      ]
     },
     "execution_count": 33,
     "metadata": {},
     "output_type": "execute_result"
    }
   ],
   "source": [
    "products"
   ]
  },
  {
   "cell_type": "code",
   "execution_count": 37,
   "id": "29e671ac-e1f7-4c06-bee9-3357c094f01c",
   "metadata": {},
   "outputs": [],
   "source": [
    "df['Products']=df[products].sum(axis=1)"
   ]
  },
  {
   "cell_type": "code",
   "execution_count": 39,
   "id": "46054fd7-025c-4b73-ab85-c844ccf6c547",
   "metadata": {},
   "outputs": [],
   "source": [
    "df.drop(products,axis=1,inplace=True)"
   ]
  },
  {
   "cell_type": "code",
   "execution_count": 40,
   "id": "aa5956c9-f29f-4359-b877-c30932843a29",
   "metadata": {},
   "outputs": [
    {
     "data": {
      "text/plain": [
       "(2240, 23)"
      ]
     },
     "execution_count": 40,
     "metadata": {},
     "output_type": "execute_result"
    }
   ],
   "source": [
    "df.shape"
   ]
  },
  {
   "cell_type": "markdown",
   "id": "7d3eadb1-fdff-41e7-8256-72464a9b1154",
   "metadata": {},
   "source": [
    "## Analysing Promotions"
   ]
  },
  {
   "cell_type": "markdown",
   "id": "03c8b08a-8a2a-4541-90b2-89fbe26f6f51",
   "metadata": {},
   "source": [
    "We have a number of accepted columns in the data, which say that if the customer accepted the offer in a given campaign or not. \n",
    "Lets combine all the accepted columns and analyse them.\n",
    "\n",
    "We will basically analyse if customer accepted the campain at all or not. Thats the bottom line."
   ]
  },
  {
   "cell_type": "code",
   "execution_count": 41,
   "id": "82f68815-6cae-41b3-8bf2-42cda20cd43e",
   "metadata": {},
   "outputs": [],
   "source": [
    "camps=[]\n",
    "for cols in df.columns:\n",
    "    if 'Accepted' in cols or 'Response' in cols:\n",
    "       camps.append(cols) "
   ]
  },
  {
   "cell_type": "code",
   "execution_count": 44,
   "id": "04c9d767-fc05-4d26-9a3f-9b9d0a578691",
   "metadata": {},
   "outputs": [],
   "source": [
    "df['Campaigns']=df[camps].sum(axis=1)"
   ]
  },
  {
   "cell_type": "code",
   "execution_count": 50,
   "id": "15c606df-9d3a-4a52-a7ee-54534b9696b1",
   "metadata": {},
   "outputs": [
    {
     "data": {
      "image/png": "[encoded data removed]",
      "text/plain": [
       "<Figure size 1000x200 with 1 Axes>"
      ]
     },
     "metadata": {},
     "output_type": "display_data"
    }
   ],
   "source": [
    "plt.figure(figsize=(10,2))\n",
    "sns.barplot(x=camps,y=df[camps].sum(),hue=camps)\n",
    "plt.show()"
   ]
  },
  {
   "cell_type": "code",
   "execution_count": 51,
   "id": "ac67b841-1e5c-4a5b-9471-65ad8e3f5952",
   "metadata": {},
   "outputs": [],
   "source": [
    "df.drop(camps,axis=1,inplace=True)"
   ]
  },
  {
   "cell_type": "code",
   "execution_count": 52,
   "id": "198f49b3-3ee5-4fb2-8a5d-a86d5a68be3b",
   "metadata": {},
   "outputs": [
    {
     "data": {
      "text/plain": [
       "(2240, 18)"
      ]
     },
     "execution_count": 52,
     "metadata": {},
     "output_type": "execute_result"
    }
   ],
   "source": [
    "df.shape"
   ]
  },
  {
   "cell_type": "code",
   "execution_count": 53,
   "id": "fab661cb-894d-400f-9d8f-619f71aa7eb4",
   "metadata": {},
   "outputs": [
    {
     "data": {
      "image/png": "[encoded data removed]",
      "text/plain": [
       "<Figure size 800x200 with 1 Axes>"
      ]
     },
     "metadata": {},
     "output_type": "display_data"
    }
   ],
   "source": [
    "plt.figure(figsize=(8,2))\n",
    "sns.histplot(x=df['Campaigns'])\n",
    "plt.show()"
   ]
  },
  {
   "cell_type": "markdown",
   "id": "7971a59d-b6f3-4792-90aa-2b75d8e0d5dd",
   "metadata": {},
   "source": [
    "So the value 0 takes the most count, which means most of our campaigns failed."
   ]
  },
  {
   "cell_type": "markdown",
   "id": "922e09ac-5aa6-4741-9f16-76b09b4ff140",
   "metadata": {
    "tags": []
   },
   "source": [
    "For purchases, we can do a similar analysis we did above.\n",
    "But do we plot a hist or a box plot? Why don't you try to figure out?"
   ]
  },
  {
   "cell_type": "markdown",
   "id": "f7b99423-ee3f-416e-8889-0d482abe37b5",
   "metadata": {},
   "source": [
    "## Analysing Purchases"
   ]
  },
  {
   "cell_type": "code",
   "execution_count": 8,
   "id": "11c7082c-d00b-4208-ac2f-2507eb12da74",
   "metadata": {},
   "outputs": [],
   "source": []
  },
  {
   "cell_type": "code",
   "execution_count": null,
   "id": "993cdb23-ba48-45a3-a576-2884bc6055e4",
   "metadata": {},
   "outputs": [],
   "source": [
    "# A pie plot to show the total purchases done from each platform"
   ]
  },
  {
   "cell_type": "markdown",
   "id": "6c2f3b1a-4098-4f6c-953b-d588f8acc1ba",
   "metadata": {},
   "source": [
    "# Data Pre-processing"
   ]
  },
  {
   "cell_type": "code",
   "execution_count": 212,
   "id": "26db30fe-021b-4016-a521-9027fc3bca1b",
   "metadata": {},
   "outputs": [],
   "source": [
    "# ENCODING"
   ]
  },
  {
   "cell_type": "code",
   "execution_count": 9,
   "id": "046c036f-831a-47cf-9c5f-8a4efc8440e1",
   "metadata": {},
   "outputs": [],
   "source": [
    "# also most models cant accept the date type, so we just drop that column it doesnt add value too"
   ]
  },
  {
   "cell_type": "markdown",
   "id": "09651801-ec36-4812-98c0-689159354cf7",
   "metadata": {},
   "source": [
    "## Data Scaling"
   ]
  },
  {
   "cell_type": "code",
   "execution_count": null,
   "id": "264c4cdf-29a2-44e6-90f4-62c54c6503df",
   "metadata": {},
   "outputs": [],
   "source": []
  },
  {
   "cell_type": "markdown",
   "id": "b2a5c5ce-62cc-43ef-ad57-0cfe8ad44c59",
   "metadata": {
    "tags": []
   },
   "source": [
    "# Dimensionality reduction"
   ]
  },
  {
   "cell_type": "code",
   "execution_count": 215,
   "id": "570995ad-6a9e-44d6-b785-aa7ca70efd53",
   "metadata": {},
   "outputs": [],
   "source": []
  },
  {
   "cell_type": "markdown",
   "id": "f9221a9b-5307-4f7b-ad3d-6b51c3a837aa",
   "metadata": {
    "tags": []
   },
   "source": [
    "# Clustering"
   ]
  },
  {
   "cell_type": "markdown",
   "id": "c417a900-9f17-4eb8-ab02-20b67baa073a",
   "metadata": {
    "tags": []
   },
   "source": [
    "## K-means"
   ]
  },
  {
   "cell_type": "markdown",
   "id": "55966784-927c-4902-b33d-7d3d7caad146",
   "metadata": {},
   "source": []
  },
  {
   "cell_type": "markdown",
   "id": "f0891a81-7a0f-4b96-89cf-b3ad5bcfe159",
   "metadata": {},
   "source": [
    "### Elbow method"
   ]
  },
  {
   "cell_type": "code",
   "execution_count": 218,
   "id": "1dc51a5a-1e8e-40c0-8136-1a7d056c2074",
   "metadata": {},
   "outputs": [],
   "source": []
  },
  {
   "cell_type": "markdown",
   "id": "d642f4fa-3165-4516-b652-ce262e5eb7df",
   "metadata": {
    "tags": []
   },
   "source": [
    "## Implementing K-means in Python"
   ]
  },
  {
   "cell_type": "code",
   "execution_count": null,
   "id": "efde8939-1f23-4c2e-8d3e-ee5b30374e59",
   "metadata": {},
   "outputs": [],
   "source": []
  },
  {
   "cell_type": "markdown",
   "id": "e0dbbec8-4fa3-49b2-9c35-964a86acd3c4",
   "metadata": {},
   "source": [
    "### Visualising k-means results"
   ]
  },
  {
   "cell_type": "code",
   "execution_count": null,
   "id": "457d7c33-6120-4e64-b377-1cb2927b8b5f",
   "metadata": {},
   "outputs": [],
   "source": []
  }
 ],
 "metadata": {
  "kernelspec": {
   "display_name": "Python 3 (ipykernel)",
   "language": "python",
   "name": "python3"
  },
  "language_info": {
   "codemirror_mode": {
    "name": "ipython",
    "version": 3
   },
   "file_extension": ".py",
   "mimetype": "text/x-python",
   "name": "python",
   "nbconvert_exporter": "python",
   "pygments_lexer": "ipython3",
   "version": "3.11.7"
  },
  "toc": {
   "base_numbering": 1,
   "nav_menu": {},
   "number_sections": true,
   "sideBar": true,
   "skip_h1_title": false,
   "title_cell": "Table of Contents",
   "title_sidebar": "Contents",
   "toc_cell": true,
   "toc_position": {
    "height": "calc(100% - 180px)",
    "left": "10px",
    "top": "150px",
    "width": "256px"
   },
   "toc_section_display": true,
   "toc_window_display": true
  },
  "toc-autonumbering": true
 },
 "nbformat": 4,
 "nbformat_minor": 5
}
