{
 "cells": [
  {
   "cell_type": "markdown",
   "id": "a56fdec1",
   "metadata": {},
   "source": [
    "## Problem Statement\n",
    "\n",
    "One of the indian companies selling the old/refurbished cars to the customers, in this case study you have to predict the car price based on the various feature of the cars, there are around 1700+ data points based on that we need to proceed and create the linear regression model. "
   ]
  },
  {
   "cell_type": "markdown",
   "id": "222694d5",
   "metadata": {},
   "source": [
    "**Data Dictionary**\n",
    "\n",
    "**Company** - Car's company\n",
    "\n",
    "**Name** - Name of the car model\n",
    "\n",
    "**Year** - Make year of the car\n",
    "\n",
    "**Selling Price** -\tSelling price of the car (Dependent variable)\n",
    "\n",
    "**Kilometer driven** -\tTotal kms driven by the car\n",
    "\n",
    "**Fuel** -\tCars fuel type\n",
    "\n",
    "**Seller Type** - Type of the seller\n",
    "\n",
    "**Transmission** -\tIf the car is automatic or manual\n",
    "\n",
    "**Owner** -\tOwner type of the car"
   ]
  },
  {
   "cell_type": "markdown",
   "id": "9d292dd3",
   "metadata": {},
   "source": [
    "# Import Libraries"
   ]
  },
  {
   "cell_type": "code",
   "execution_count": 1,
   "id": "bcacebd4",
   "metadata": {},
   "outputs": [],
   "source": [
    "#Importing the libraries which will be helpful for the data analysis. "
   ]
  },
  {
   "cell_type": "markdown",
   "id": "91108112",
   "metadata": {},
   "source": [
    "# Data Preparation"
   ]
  },
  {
   "cell_type": "code",
   "execution_count": 2,
   "id": "f288148f",
   "metadata": {},
   "outputs": [],
   "source": [
    "# Loading the data"
   ]
  },
  {
   "cell_type": "markdown",
   "id": "fe51eebb",
   "metadata": {},
   "source": [
    "# Understand the data"
   ]
  },
  {
   "cell_type": "code",
   "execution_count": null,
   "id": "78314fc2",
   "metadata": {},
   "outputs": [],
   "source": []
  },
  {
   "cell_type": "code",
   "execution_count": null,
   "id": "a3e45449",
   "metadata": {},
   "outputs": [],
   "source": []
  },
  {
   "cell_type": "code",
   "execution_count": null,
   "id": "8fb2cc04",
   "metadata": {},
   "outputs": [],
   "source": []
  },
  {
   "cell_type": "code",
   "execution_count": null,
   "id": "43af0155",
   "metadata": {},
   "outputs": [],
   "source": []
  },
  {
   "cell_type": "markdown",
   "id": "897473e0",
   "metadata": {},
   "source": [
    "# Exploratory Data Analysis"
   ]
  },
  {
   "cell_type": "code",
   "execution_count": 3,
   "id": "6ad4e5d1",
   "metadata": {},
   "outputs": [],
   "source": [
    "# Analyze which brand of cars are having overall higher selling price "
   ]
  },
  {
   "cell_type": "markdown",
   "id": "8bbc25a3",
   "metadata": {},
   "source": [
    "**CONCLUSION:**"
   ]
  },
  {
   "cell_type": "code",
   "execution_count": 4,
   "id": "691391d5",
   "metadata": {},
   "outputs": [],
   "source": [
    "# Which type of sellers are having higher selling price"
   ]
  },
  {
   "cell_type": "markdown",
   "id": "7b09ea83",
   "metadata": {},
   "source": [
    "**CONCLUSION:**"
   ]
  },
  {
   "cell_type": "code",
   "execution_count": 5,
   "id": "cd5cea8a",
   "metadata": {},
   "outputs": [],
   "source": [
    "# Analyze the selling price of older and newer cars"
   ]
  },
  {
   "cell_type": "markdown",
   "id": "7570f230",
   "metadata": {},
   "source": [
    "**CONCLUSION:**"
   ]
  },
  {
   "cell_type": "code",
   "execution_count": 6,
   "id": "f527dfd0",
   "metadata": {},
   "outputs": [],
   "source": [
    "# Show if the number of kilometers driven has an influence on the selling price of the cars"
   ]
  },
  {
   "cell_type": "markdown",
   "id": "11054125",
   "metadata": {},
   "source": [
    "**CONCLUSION:**"
   ]
  },
  {
   "cell_type": "code",
   "execution_count": 7,
   "id": "8f2df82a-7e68-4350-8cb9-7ee1f3fd9186",
   "metadata": {},
   "outputs": [],
   "source": [
    "# Show the correlation between various independant & dependant variables"
   ]
  },
  {
   "cell_type": "markdown",
   "id": "2ed9515d-fe76-438e-b864-70362c0562e4",
   "metadata": {},
   "source": [
    "**CONCLUSION:**"
   ]
  },
  {
   "cell_type": "markdown",
   "id": "7f7b2a52",
   "metadata": {},
   "source": [
    "# Outlier Treatment"
   ]
  },
  {
   "cell_type": "code",
   "execution_count": null,
   "id": "c6e2762c",
   "metadata": {},
   "outputs": [],
   "source": []
  },
  {
   "cell_type": "markdown",
   "id": "205112bc",
   "metadata": {},
   "source": [
    "# Missing Value Treatment"
   ]
  },
  {
   "cell_type": "code",
   "execution_count": null,
   "id": "d3fa5da1",
   "metadata": {},
   "outputs": [],
   "source": []
  },
  {
   "cell_type": "markdown",
   "id": "5259b6fc",
   "metadata": {},
   "source": [
    "# Encoding"
   ]
  },
  {
   "cell_type": "code",
   "execution_count": null,
   "id": "1054d6f9",
   "metadata": {},
   "outputs": [],
   "source": []
  },
  {
   "cell_type": "markdown",
   "id": "023fa9e2",
   "metadata": {},
   "source": [
    "# Splitting the data into Train and Test"
   ]
  },
  {
   "cell_type": "code",
   "execution_count": null,
   "id": "6508c32a-2c9d-45c1-b1dc-213f541ab722",
   "metadata": {},
   "outputs": [],
   "source": []
  },
  {
   "cell_type": "markdown",
   "id": "78272a57-4485-4d7d-aeb2-8fe310f5259a",
   "metadata": {},
   "source": [
    "# Train & Test the machine"
   ]
  },
  {
   "cell_type": "code",
   "execution_count": null,
   "id": "a6c80457-3997-485b-bcc2-a7b71365e59b",
   "metadata": {},
   "outputs": [],
   "source": []
  },
  {
   "cell_type": "markdown",
   "id": "c5243c49",
   "metadata": {},
   "source": [
    "# Building the MLR Model"
   ]
  },
  {
   "cell_type": "code",
   "execution_count": null,
   "id": "61308945-dbc3-48ad-916a-856a201e2b5d",
   "metadata": {},
   "outputs": [],
   "source": []
  },
  {
   "cell_type": "markdown",
   "id": "df5fc03f-e82d-4f07-88f8-b08cd9736d7b",
   "metadata": {},
   "source": [
    "# Vizually representing MLR Model"
   ]
  },
  {
   "cell_type": "code",
   "execution_count": null,
   "id": "d1c21581-ba9c-45d0-8620-8e062d6a7f39",
   "metadata": {},
   "outputs": [],
   "source": []
  }
 ],
 "metadata": {
  "kernelspec": {
   "display_name": "Python 3 (ipykernel)",
   "language": "python",
   "name": "python3"
  },
  "language_info": {
   "codemirror_mode": {
    "name": "ipython",
    "version": 3
   },
   "file_extension": ".py",
   "mimetype": "text/x-python",
   "name": "python",
   "nbconvert_exporter": "python",
   "pygments_lexer": "ipython3",
   "version": "3.11.7"
  }
 },
 "nbformat": 4,
 "nbformat_minor": 5
}
