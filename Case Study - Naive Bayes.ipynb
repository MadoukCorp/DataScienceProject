{
 "cells": [
  {
   "cell_type": "markdown",
   "id": "b338bce5",
   "metadata": {
    "id": "b338bce5"
   },
   "source": [
    "## Problem Statement\n",
    "\n",
    "One of the prestigious telecom company maintains a database of the customer and their details. Based on this dataset the requirememt is to create the classification model using Naive Bayes to predict if the customer will churn or not. There are around 7000+ records using this we need to create the model after breaking the data into test and train."
   ]
  },
  {
   "cell_type": "markdown",
   "id": "dd03dbf4",
   "metadata": {
    "id": "dd03dbf4"
   },
   "source": [
    "**Data Dictionary**\n",
    "\n",
    "**CustomerID** - Unique Customer ID\n",
    "\n",
    "**Gender** - Gender of the customer\n",
    "\n",
    "**SeniorCitizen** - Whether a customer can be classified as a senior citizen\n",
    "\n",
    "**Partner** - If a customer is married/ in a live-in relationship\n",
    "\n",
    "**Dependents** - If a customer has dependents (children/ retired parents)\n",
    "\n",
    "**Tenure** - The time for which a customer has been using the service\n",
    "\n",
    "**PhoneService** - Whether a customer has a landline phone service along with the internet service\n",
    "\n",
    "**MultipleLines** - Whether a customer has multiple lines of internet connectivity\n",
    "\n",
    "**InternetService** - The type of internet services chosen by the customer\n",
    "\n",
    "**OnlineSecurity** - Specifies if a customer has online security\n",
    "\n",
    "**OnlineBackup** - Specifies if a customer has online backup\n",
    "\n",
    "**DeviceProtection** -\tSpecifies if a customer has opted for device protection\n",
    "\n",
    "**TechSupport** - Whether a customer has opted for tech support of not\n",
    "\n",
    "**StreamingTV** - Whether a customer has an option of TV streaming\n",
    "\n",
    "**StreamingMovies** - Whether a customer has an option of Movie streaming\n",
    "\n",
    "**Contract** - The type of contract a customer has chosen\n",
    "\n",
    "**PaperlessBilling** - Whether a customer has opted for paperless billing\n",
    "\n",
    "**PaymentMethod** -\tSpecifies the method by which bills are paid\n",
    "\n",
    "**MonthlyCharges** - Specifies the money paid by a customer each month\n",
    "\n",
    "**TotalCharges** - The total money paid by the customer to the company\n",
    "\n",
    "**Churn** -\tThis is the target variable which specifies if a customer has churned or not\n"
   ]
  },
  {
   "cell_type": "markdown",
   "id": "f16a4057",
   "metadata": {
    "id": "f16a4057"
   },
   "source": [
    "# Table of Content\n",
    "\n",
    "1. **[Import Libraries](#lib)**\n",
    "2. **[Data Preparation](#prep)**\n",
    "    - 2.1 - **[Understand the Data](#read)**\n",
    "    - 2.2 - **[Exploratory Data Analysis](#eda)**\n",
    "    - 2.3 - **[Missing Value Treatment](#null)**\n",
    "    - 2.4 - **[Encoding](#enc)**\n",
    "5. **[Splitting the data into Train and Test](#sd)**\n",
    "6. **[Creating the model on training dataset](#model)**\n",
    "7. **[Run the model on the Test Dataset](#test)**\n",
    "8. **[Check the accuracy of the model](#acc)**\n",
    "    - 6.1 - **[Accuracy Score](#accscore)**\n",
    "    - 6.2 - **[Confusion Matrix](#cm)**"
   ]
  },
  {
   "cell_type": "markdown",
   "id": "dc7b1c6c",
   "metadata": {
    "id": "dc7b1c6c"
   },
   "source": [
    "<a id=\"lib\"></a>\n",
    "# 1. Import Libraries"
   ]
  },
  {
   "cell_type": "code",
   "execution_count": 1,
   "id": "78e5cb7c",
   "metadata": {
    "id": "78e5cb7c"
   },
   "outputs": [],
   "source": [
    "# Import the libraries which will be helpful for the data analysis. "
   ]
  },
  {
   "cell_type": "markdown",
   "id": "2ffa675e",
   "metadata": {
    "id": "2ffa675e"
   },
   "source": [
    "<a id=\"prep\"></a>\n",
    "# 2. Data Preparation"
   ]
  },
  {
   "cell_type": "code",
   "execution_count": 2,
   "id": "562b4203",
   "metadata": {
    "id": "562b4203"
   },
   "outputs": [],
   "source": [
    "# Import the dataset which we will use for the modelling "
   ]
  },
  {
   "cell_type": "markdown",
   "id": "70cdf1f0",
   "metadata": {
    "id": "70cdf1f0"
   },
   "source": [
    "<a id=\"read\"></a>\n",
    "# 2.1. Understand the Data"
   ]
  },
  {
   "cell_type": "code",
   "execution_count": 3,
   "id": "2bac8a30",
   "metadata": {
    "id": "2bac8a30",
    "outputId": "640c71e1-ab4f-46d2-8b56-bc273e241ebd"
   },
   "outputs": [],
   "source": [
    "# Display a brief summary on the dataset:"
   ]
  },
  {
   "cell_type": "code",
   "execution_count": 4,
   "id": "0491829d",
   "metadata": {
    "id": "0491829d",
    "outputId": "97147819-1117-493f-dfab-bcef92463d60"
   },
   "outputs": [],
   "source": [
    "# Display the total number of records present in the dataset"
   ]
  },
  {
   "cell_type": "code",
   "execution_count": 5,
   "id": "6a5ba0b8",
   "metadata": {
    "id": "6a5ba0b8",
    "outputId": "51b1bc00-0ea5-415f-d175-95e1712e4761"
   },
   "outputs": [],
   "source": [
    "# Display the total number of the columns present in the dataset"
   ]
  },
  {
   "cell_type": "code",
   "execution_count": 6,
   "id": "0c4edbad",
   "metadata": {
    "id": "0c4edbad",
    "outputId": "68820045-fbc0-4e34-a974-6d29e0349b3f"
   },
   "outputs": [],
   "source": [
    "# Display the names of the object type columns present in the dataset"
   ]
  },
  {
   "cell_type": "markdown",
   "id": "151798df",
   "metadata": {
    "id": "151798df"
   },
   "source": [
    "<a id=\"eda\"></a>\n",
    "# 2.2. Exploratory Data Analysis"
   ]
  },
  {
   "cell_type": "markdown",
   "id": "0640e9cd-c48c-4861-ba70-614baf02706c",
   "metadata": {},
   "source": [
    "**Create a Histogram to find which customers are more likely to churn: Customers with month to month subscription,Customers with one year subscription or Customers with 2 years subscription**"
   ]
  },
  {
   "cell_type": "code",
   "execution_count": 7,
   "id": "966b6108",
   "metadata": {
    "id": "966b6108",
    "outputId": "ef6c3eff-0207-4d2b-baee-8c660ba420c7"
   },
   "outputs": [],
   "source": [
    "# Code here:"
   ]
  },
  {
   "cell_type": "markdown",
   "id": "0d2ae410",
   "metadata": {
    "id": "0d2ae410"
   },
   "source": [
    "**Conclusion:**"
   ]
  },
  {
   "cell_type": "markdown",
   "id": "bfd64112",
   "metadata": {
    "id": "bfd64112"
   },
   "source": [
    "<a id=\"null\"></a>\n",
    "# 2.3. Missing Value Treatment"
   ]
  },
  {
   "cell_type": "code",
   "execution_count": 8,
   "id": "8c27a789",
   "metadata": {
    "id": "8c27a789",
    "outputId": "85ee1a83-7f9f-4de8-f5cf-e221c427e415"
   },
   "outputs": [],
   "source": [
    "#Check the count of the missing values:"
   ]
  },
  {
   "cell_type": "markdown",
   "id": "7a04f0e2",
   "metadata": {},
   "source": [
    "<a id=\"enc\"></a>\n",
    "# 2.4. Encoding"
   ]
  },
  {
   "cell_type": "code",
   "execution_count": 9,
   "id": "7skGNV6RZPwy",
   "metadata": {
    "id": "7skGNV6RZPwy"
   },
   "outputs": [],
   "source": [
    "# Convert the categorical data to discrete numerical data:"
   ]
  },
  {
   "cell_type": "markdown",
   "id": "d034bd48",
   "metadata": {
    "id": "d034bd48"
   },
   "source": [
    "<a id=\"sd\"></a>\n",
    "# 3. Splitting the data into Train and Test"
   ]
  },
  {
   "cell_type": "code",
   "execution_count": 10,
   "id": "3c6ffd0d",
   "metadata": {
    "id": "3c6ffd0d"
   },
   "outputs": [],
   "source": [
    "# Split all the independent variables in one array"
   ]
  },
  {
   "cell_type": "code",
   "execution_count": 11,
   "id": "d3041184",
   "metadata": {
    "id": "d3041184"
   },
   "outputs": [],
   "source": [
    "# Split the dependent variable in one array"
   ]
  },
  {
   "cell_type": "code",
   "execution_count": 12,
   "id": "b9942fd8",
   "metadata": {
    "id": "b9942fd8"
   },
   "outputs": [],
   "source": [
    "# Split the dataset into train and test based on the 70-30 ratio"
   ]
  },
  {
   "cell_type": "markdown",
   "id": "64c21646",
   "metadata": {
    "id": "64c21646"
   },
   "source": [
    "<a id=\"model\"></a>\n",
    "# 4. Creating the model on training dataset"
   ]
  },
  {
   "cell_type": "code",
   "execution_count": 13,
   "id": "253f6b63",
   "metadata": {
    "id": "253f6b63",
    "outputId": "b0473dc8-b049-45e8-b429-c57e655f8502"
   },
   "outputs": [],
   "source": [
    "# Apply the naive bayes on the training dataset"
   ]
  },
  {
   "cell_type": "markdown",
   "id": "1a4e67d2",
   "metadata": {
    "id": "1a4e67d2"
   },
   "source": [
    "<a id=\"test\"></a>\n",
    "# 5. Run the model on the Test Dataset"
   ]
  },
  {
   "cell_type": "code",
   "execution_count": 14,
   "id": "bb97496f",
   "metadata": {
    "id": "bb97496f"
   },
   "outputs": [],
   "source": [
    "# Run the model on the test dataset"
   ]
  },
  {
   "cell_type": "markdown",
   "id": "ebe62aac",
   "metadata": {
    "id": "ebe62aac"
   },
   "source": [
    "<a id=\"accscore\"></a>\n",
    "# 6.1. Accuracy Score"
   ]
  },
  {
   "cell_type": "code",
   "execution_count": 15,
   "id": "136bdb68",
   "metadata": {
    "id": "136bdb68",
    "outputId": "e0d19f55-b651-4f4c-e9eb-05afe723b59d"
   },
   "outputs": [],
   "source": [
    "# Check the accuracy on the testing dataset"
   ]
  },
  {
   "cell_type": "markdown",
   "id": "4b281ccf",
   "metadata": {
    "id": "4b281ccf"
   },
   "source": [
    "<a id=\"cm\"></a>\n",
    "# 6.2. Confusion Matrix"
   ]
  },
  {
   "cell_type": "code",
   "execution_count": 16,
   "id": "33bb236e",
   "metadata": {
    "id": "33bb236e",
    "outputId": "d9751680-cb62-42e8-aea5-a30b27f179b7"
   },
   "outputs": [],
   "source": [
    "# Plot the confusion matrix plot to check the accuracy on the testing dataset"
   ]
  }
 ],
 "metadata": {
  "colab": {
   "provenance": []
  },
  "kernelspec": {
   "display_name": "Python 3 (ipykernel)",
   "language": "python",
   "name": "python3"
  },
  "language_info": {
   "codemirror_mode": {
    "name": "ipython",
    "version": 3
   },
   "file_extension": ".py",
   "mimetype": "text/x-python",
   "name": "python",
   "nbconvert_exporter": "python",
   "pygments_lexer": "ipython3",
   "version": "3.11.7"
  }
 },
 "nbformat": 4,
 "nbformat_minor": 5
}
