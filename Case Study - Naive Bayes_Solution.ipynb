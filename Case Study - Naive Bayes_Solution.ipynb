{
 "cells": [
  {
   "cell_type": "markdown",
   "id": "b338bce5",
   "metadata": {
    "id": "b338bce5"
   },
   "source": [
    "## Problem Statement\n",
    "\n",
    "One of the prestigious telecom company maintains a database of the customer and their details. Based on this dataset the requirememt is to create the classification model using Naive Bayes to predict if the customer will churn or not. There are around 7000+ records using this we need to create the model after breaking the data into test and train."
   ]
  },
  {
   "cell_type": "markdown",
   "id": "dd03dbf4",
   "metadata": {
    "id": "dd03dbf4"
   },
   "source": [
    "**Data Dictionary**\n",
    "\n",
    "**CustomerID** - Unique Customer ID\n",
    "\n",
    "**Gender** - Gender of the customer\n",
    "\n",
    "**SeniorCitizen** - Whether a customer can be classified as a senior citizen\n",
    "\n",
    "**Partner** - If a customer is married/ in a live-in relationship\n",
    "\n",
    "**Dependents** - If a customer has dependents (children/ retired parents)\n",
    "\n",
    "**Tenure** - The time for which a customer has been using the service\n",
    "\n",
    "**PhoneService** - Whether a customer has a landline phone service along with the internet service\n",
    "\n",
    "**MultipleLines** - Whether a customer has multiple lines of internet connectivity\n",
    "\n",
    "**InternetService** - The type of internet services chosen by the customer\n",
    "\n",
    "**OnlineSecurity** - Specifies if a customer has online security\n",
    "\n",
    "**OnlineBackup** - Specifies if a customer has online backup\n",
    "\n",
    "**DeviceProtection** -\tSpecifies if a customer has opted for device protection\n",
    "\n",
    "**TechSupport** - Whether a customer has opted for tech support of not\n",
    "\n",
    "**StreamingTV** - Whether a customer has an option of TV streaming\n",
    "\n",
    "**StreamingMovies** - Whether a customer has an option of Movie streaming\n",
    "\n",
    "**Contract** - The type of contract a customer has chosen\n",
    "\n",
    "**PaperlessBilling** - Whether a customer has opted for paperless billing\n",
    "\n",
    "**PaymentMethod** -\tSpecifies the method by which bills are paid\n",
    "\n",
    "**MonthlyCharges** - Specifies the money paid by a customer each month\n",
    "\n",
    "**TotalCharges** - The total money paid by the customer to the company\n",
    "\n",
    "**Churn** -\tThis is the target variable which specifies if a customer has churned or not\n"
   ]
  },
  {
   "cell_type": "markdown",
   "id": "f16a4057",
   "metadata": {
    "id": "f16a4057"
   },
   "source": [
    "# Table of Content\n",
    "\n",
    "1. **[Import Libraries](#lib)**\n",
    "2. **[Data Preparation](#prep)**\n",
    "    - 2.1 - **[Understand the Data](#read)**\n",
    "    - 2.2 - **[Exploratory Data Analysis](#eda)**\n",
    "    - 2.3 - **[Missing Value Treatment](#null)**\n",
    "    - 2.4 - **[Encoding](#enc)**\n",
    "5. **[Splitting the data into Train and Test](#sd)**\n",
    "6. **[Creating the model on training dataset](#model)**\n",
    "7. **[Run the model on the Test Dataset](#test)**\n",
    "8. **[Check the accuracy of the model](#acc)**\n",
    "    - 6.1 - **[Accuracy Score](#accscore)**\n",
    "    - 6.2 - **[Confusion Matrix](#cm)**"
   ]
  },
  {
   "cell_type": "markdown",
   "id": "dc7b1c6c",
   "metadata": {
    "id": "dc7b1c6c"
   },
   "source": [
    "<a id=\"lib\"></a>\n",
    "# 1. Import Libraries"
   ]
  },
  {
   "cell_type": "code",
   "execution_count": 33,
   "id": "78e5cb7c",
   "metadata": {
    "id": "78e5cb7c"
   },
   "outputs": [],
   "source": [
    "# Import the libraries which will be helpful for the data analysis. \n",
    "\n",
    "import numpy as np\n",
    "import pandas as pd\n",
    "import matplotlib.pyplot as plt\n",
    "import seaborn as sns\n",
    "from sklearn.model_selection import train_test_split\n",
    "from sklearn.naive_bayes import GaussianNB\n",
    "from sklearn.metrics import accuracy_score,confusion_matrix,ConfusionMatrixDisplay"
   ]
  },
  {
   "cell_type": "markdown",
   "id": "2ffa675e",
   "metadata": {
    "id": "2ffa675e"
   },
   "source": [
    "<a id=\"prep\"></a>\n",
    "# 2. Data Preparation"
   ]
  },
  {
   "cell_type": "code",
   "execution_count": 22,
   "id": "562b4203",
   "metadata": {
    "id": "562b4203"
   },
   "outputs": [
    {
     "data": {
      "text/html": [
       "<div>\n",
       "<style scoped>\n",
       "    .dataframe tbody tr th:only-of-type {\n",
       "        vertical-align: middle;\n",
       "    }\n",
       "\n",
       "    .dataframe tbody tr th {\n",
       "        vertical-align: top;\n",
       "    }\n",
       "\n",
       "    .dataframe thead th {\n",
       "        text-align: right;\n",
       "    }\n",
       "</style>\n",
       "<table border=\"1\" class=\"dataframe\">\n",
       "  <thead>\n",
       "    <tr style=\"text-align: right;\">\n",
       "      <th></th>\n",
       "      <th>customerID</th>\n",
       "      <th>tenure</th>\n",
       "      <th>PhoneService</th>\n",
       "      <th>Contract</th>\n",
       "      <th>PaperlessBilling</th>\n",
       "      <th>PaymentMethod</th>\n",
       "      <th>MonthlyCharges</th>\n",
       "      <th>TotalCharges</th>\n",
       "      <th>gender</th>\n",
       "      <th>SeniorCitizen</th>\n",
       "      <th>...</th>\n",
       "      <th>Dependents</th>\n",
       "      <th>MultipleLines</th>\n",
       "      <th>InternetService</th>\n",
       "      <th>OnlineSecurity</th>\n",
       "      <th>OnlineBackup</th>\n",
       "      <th>DeviceProtection</th>\n",
       "      <th>TechSupport</th>\n",
       "      <th>StreamingTV</th>\n",
       "      <th>StreamingMovies</th>\n",
       "      <th>Churn</th>\n",
       "    </tr>\n",
       "  </thead>\n",
       "  <tbody>\n",
       "    <tr>\n",
       "      <th>6715</th>\n",
       "      <td>1173-XZPYF</td>\n",
       "      <td>11</td>\n",
       "      <td>Yes</td>\n",
       "      <td>Month-to-month</td>\n",
       "      <td>Yes</td>\n",
       "      <td>Electronic check</td>\n",
       "      <td>89.2</td>\n",
       "      <td>990.3</td>\n",
       "      <td>Female</td>\n",
       "      <td>0</td>\n",
       "      <td>...</td>\n",
       "      <td>No</td>\n",
       "      <td>Yes</td>\n",
       "      <td>Fiber optic</td>\n",
       "      <td>No</td>\n",
       "      <td>No</td>\n",
       "      <td>Yes</td>\n",
       "      <td>No</td>\n",
       "      <td>Yes</td>\n",
       "      <td>No</td>\n",
       "      <td>No</td>\n",
       "    </tr>\n",
       "  </tbody>\n",
       "</table>\n",
       "<p>1 rows × 21 columns</p>\n",
       "</div>"
      ],
      "text/plain": [
       "      customerID  tenure PhoneService        Contract PaperlessBilling  \\\n",
       "6715  1173-XZPYF      11          Yes  Month-to-month              Yes   \n",
       "\n",
       "         PaymentMethod  MonthlyCharges  TotalCharges  gender  SeniorCitizen  \\\n",
       "6715  Electronic check            89.2         990.3  Female              0   \n",
       "\n",
       "      ... Dependents MultipleLines InternetService OnlineSecurity  \\\n",
       "6715  ...         No           Yes     Fiber optic             No   \n",
       "\n",
       "     OnlineBackup DeviceProtection TechSupport StreamingTV StreamingMovies  \\\n",
       "6715           No              Yes          No         Yes              No   \n",
       "\n",
       "     Churn  \n",
       "6715    No  \n",
       "\n",
       "[1 rows x 21 columns]"
      ]
     },
     "execution_count": 22,
     "metadata": {},
     "output_type": "execute_result"
    }
   ],
   "source": [
    "# Import the dataset which we will use for the modelling \n",
    "data=pd.read_csv(r\"C:\\Users\\mukhe\\OneDrive\\Documents\\KnowledgeHut\\Capstones\\Case Study - Naive Bayes\\case_Study_nb.csv\")\n",
    "data.sample()"
   ]
  },
  {
   "cell_type": "markdown",
   "id": "70cdf1f0",
   "metadata": {
    "id": "70cdf1f0"
   },
   "source": [
    "<a id=\"read\"></a>\n",
    "# 2.1. Understand the Data"
   ]
  },
  {
   "cell_type": "code",
   "execution_count": 5,
   "id": "2bac8a30",
   "metadata": {
    "id": "2bac8a30",
    "outputId": "640c71e1-ab4f-46d2-8b56-bc273e241ebd"
   },
   "outputs": [
    {
     "name": "stdout",
     "output_type": "stream",
     "text": [
      "<class 'pandas.core.frame.DataFrame'>\n",
      "RangeIndex: 7043 entries, 0 to 7042\n",
      "Data columns (total 21 columns):\n",
      " #   Column            Non-Null Count  Dtype  \n",
      "---  ------            --------------  -----  \n",
      " 0   customerID        7043 non-null   object \n",
      " 1   tenure            7043 non-null   int64  \n",
      " 2   PhoneService      7043 non-null   object \n",
      " 3   Contract          7043 non-null   object \n",
      " 4   PaperlessBilling  7043 non-null   object \n",
      " 5   PaymentMethod     7043 non-null   object \n",
      " 6   MonthlyCharges    7043 non-null   float64\n",
      " 7   TotalCharges      7043 non-null   float64\n",
      " 8   gender            7043 non-null   object \n",
      " 9   SeniorCitizen     7043 non-null   int64  \n",
      " 10  Partner           7043 non-null   object \n",
      " 11  Dependents        7043 non-null   object \n",
      " 12  MultipleLines     7043 non-null   object \n",
      " 13  InternetService   7043 non-null   object \n",
      " 14  OnlineSecurity    7043 non-null   object \n",
      " 15  OnlineBackup      7043 non-null   object \n",
      " 16  DeviceProtection  7043 non-null   object \n",
      " 17  TechSupport       7043 non-null   object \n",
      " 18  StreamingTV       7043 non-null   object \n",
      " 19  StreamingMovies   7043 non-null   object \n",
      " 20  Churn             7043 non-null   object \n",
      "dtypes: float64(2), int64(2), object(17)\n",
      "memory usage: 1.1+ MB\n"
     ]
    }
   ],
   "source": [
    "# Display a brief summary on the dataset:\n",
    "data.info()"
   ]
  },
  {
   "cell_type": "code",
   "execution_count": 6,
   "id": "0491829d",
   "metadata": {
    "id": "0491829d",
    "outputId": "97147819-1117-493f-dfab-bcef92463d60"
   },
   "outputs": [
    {
     "data": {
      "text/plain": [
       "7043"
      ]
     },
     "execution_count": 6,
     "metadata": {},
     "output_type": "execute_result"
    }
   ],
   "source": [
    "# Display the total number of records present in the dataset\n",
    "len(data)"
   ]
  },
  {
   "cell_type": "code",
   "execution_count": 7,
   "id": "6a5ba0b8",
   "metadata": {
    "id": "6a5ba0b8",
    "outputId": "51b1bc00-0ea5-415f-d175-95e1712e4761"
   },
   "outputs": [
    {
     "data": {
      "text/plain": [
       "Index(['customerID', 'tenure', 'PhoneService', 'Contract', 'PaperlessBilling',\n",
       "       'PaymentMethod', 'MonthlyCharges', 'TotalCharges', 'gender',\n",
       "       'SeniorCitizen', 'Partner', 'Dependents', 'MultipleLines',\n",
       "       'InternetService', 'OnlineSecurity', 'OnlineBackup', 'DeviceProtection',\n",
       "       'TechSupport', 'StreamingTV', 'StreamingMovies', 'Churn'],\n",
       "      dtype='object')"
      ]
     },
     "execution_count": 7,
     "metadata": {},
     "output_type": "execute_result"
    }
   ],
   "source": [
    "# Display the total number of the columns present in the dataset\n",
    "data.columns"
   ]
  },
  {
   "cell_type": "code",
   "execution_count": 9,
   "id": "0c4edbad",
   "metadata": {
    "id": "0c4edbad",
    "outputId": "68820045-fbc0-4e34-a974-6d29e0349b3f"
   },
   "outputs": [
    {
     "data": {
      "text/plain": [
       "Index(['customerID', 'PhoneService', 'Contract', 'PaperlessBilling',\n",
       "       'PaymentMethod', 'gender', 'Partner', 'Dependents', 'MultipleLines',\n",
       "       'InternetService', 'OnlineSecurity', 'OnlineBackup', 'DeviceProtection',\n",
       "       'TechSupport', 'StreamingTV', 'StreamingMovies', 'Churn'],\n",
       "      dtype='object')"
      ]
     },
     "execution_count": 9,
     "metadata": {},
     "output_type": "execute_result"
    }
   ],
   "source": [
    "# Display the names of the object type columns present in the dataset\n",
    "data.select_dtypes('object').columns"
   ]
  },
  {
   "cell_type": "markdown",
   "id": "151798df",
   "metadata": {
    "id": "151798df"
   },
   "source": [
    "<a id=\"eda\"></a>\n",
    "# 2.2. Exploratory Data Analysis"
   ]
  },
  {
   "cell_type": "markdown",
   "id": "0640e9cd-c48c-4861-ba70-614baf02706c",
   "metadata": {},
   "source": [
    "**Create a Histogram to find which customers are more likely to churn: Customers with month to month subscription,Customers with one year subscription or Customers with 2 years subscription**"
   ]
  },
  {
   "cell_type": "code",
   "execution_count": 12,
   "id": "966b6108",
   "metadata": {
    "id": "966b6108",
    "outputId": "ef6c3eff-0207-4d2b-baee-8c660ba420c7"
   },
   "outputs": [
    {
     "data": {
      "image/png": "[encoded data removed]",
      "text/plain": [
       "<Figure size 1500x200 with 1 Axes>"
      ]
     },
     "metadata": {},
     "output_type": "display_data"
    }
   ],
   "source": [
    "# Code here:\n",
    "plt.figure(figsize=(15,2))\n",
    "sns.histplot(x = 'Contract',hue='Churn',data=data)\n",
    "plt.show()"
   ]
  },
  {
   "cell_type": "markdown",
   "id": "0d2ae410",
   "metadata": {
    "id": "0d2ae410"
   },
   "source": [
    "**<span style='color:green'>From the above chart we can say that customers with month to month subscription are more likely to churn**"
   ]
  },
  {
   "cell_type": "markdown",
   "id": "bfd64112",
   "metadata": {
    "id": "bfd64112"
   },
   "source": [
    "<a id=\"null\"></a>\n",
    "# 2.3. Missing Value Treatment"
   ]
  },
  {
   "cell_type": "code",
   "execution_count": 14,
   "id": "8c27a789",
   "metadata": {
    "id": "8c27a789",
    "outputId": "85ee1a83-7f9f-4de8-f5cf-e221c427e415"
   },
   "outputs": [
    {
     "data": {
      "text/plain": [
       "customerID          0\n",
       "tenure              0\n",
       "PhoneService        0\n",
       "Contract            0\n",
       "PaperlessBilling    0\n",
       "PaymentMethod       0\n",
       "MonthlyCharges      0\n",
       "TotalCharges        0\n",
       "gender              0\n",
       "SeniorCitizen       0\n",
       "Partner             0\n",
       "Dependents          0\n",
       "MultipleLines       0\n",
       "InternetService     0\n",
       "OnlineSecurity      0\n",
       "OnlineBackup        0\n",
       "DeviceProtection    0\n",
       "TechSupport         0\n",
       "StreamingTV         0\n",
       "StreamingMovies     0\n",
       "Churn               0\n",
       "dtype: int64"
      ]
     },
     "execution_count": 14,
     "metadata": {},
     "output_type": "execute_result"
    }
   ],
   "source": [
    "#Check the count of the missing values:\n",
    "\n",
    "data.isnull().sum()"
   ]
  },
  {
   "cell_type": "markdown",
   "id": "f17d0587-c6d1-405b-a63e-ed2aaf31dff8",
   "metadata": {},
   "source": [
    "**There are no missing values in the dataset, hence we are not going to do the missing value imputation in the dataset**"
   ]
  },
  {
   "cell_type": "markdown",
   "id": "7a04f0e2",
   "metadata": {},
   "source": [
    "<a id=\"enc\"></a>\n",
    "# 2.4. Encoding"
   ]
  },
  {
   "cell_type": "code",
   "execution_count": 25,
   "id": "7skGNV6RZPwy",
   "metadata": {
    "id": "7skGNV6RZPwy"
   },
   "outputs": [
    {
     "name": "stdout",
     "output_type": "stream",
     "text": [
      "<class 'pandas.core.frame.DataFrame'>\n",
      "RangeIndex: 7043 entries, 0 to 7042\n",
      "Data columns (total 21 columns):\n",
      " #   Column            Non-Null Count  Dtype  \n",
      "---  ------            --------------  -----  \n",
      " 0   customerID        7043 non-null   int16  \n",
      " 1   tenure            7043 non-null   int64  \n",
      " 2   PhoneService      7043 non-null   int8   \n",
      " 3   Contract          7043 non-null   int8   \n",
      " 4   PaperlessBilling  7043 non-null   int8   \n",
      " 5   PaymentMethod     7043 non-null   int8   \n",
      " 6   MonthlyCharges    7043 non-null   float64\n",
      " 7   TotalCharges      7043 non-null   float64\n",
      " 8   gender            7043 non-null   int8   \n",
      " 9   SeniorCitizen     7043 non-null   int64  \n",
      " 10  Partner           7043 non-null   int8   \n",
      " 11  Dependents        7043 non-null   int8   \n",
      " 12  MultipleLines     7043 non-null   int8   \n",
      " 13  InternetService   7043 non-null   int8   \n",
      " 14  OnlineSecurity    7043 non-null   int8   \n",
      " 15  OnlineBackup      7043 non-null   int8   \n",
      " 16  DeviceProtection  7043 non-null   int8   \n",
      " 17  TechSupport       7043 non-null   int8   \n",
      " 18  StreamingTV       7043 non-null   int8   \n",
      " 19  StreamingMovies   7043 non-null   int8   \n",
      " 20  Churn             7043 non-null   int8   \n",
      "dtypes: float64(2), int16(1), int64(2), int8(16)\n",
      "memory usage: 344.0 KB\n"
     ]
    }
   ],
   "source": [
    "# Convert the categorical data to discrete numerical data:\n",
    "col=data.select_dtypes('object').columns\n",
    "data[col]=data[col].astype('category')\n",
    "\n",
    "for i in col:\n",
    "    data[i]=data[i].cat.codes\n",
    "data.info()"
   ]
  },
  {
   "cell_type": "markdown",
   "id": "d034bd48",
   "metadata": {
    "id": "d034bd48"
   },
   "source": [
    "<a id=\"sd\"></a>\n",
    "# 3. Splitting the data into Train and Test"
   ]
  },
  {
   "cell_type": "code",
   "execution_count": 28,
   "id": "3c6ffd0d",
   "metadata": {
    "id": "3c6ffd0d"
   },
   "outputs": [],
   "source": [
    "# Split all the independent variables in one array\n",
    "x = data.iloc[:,1:20].values"
   ]
  },
  {
   "cell_type": "code",
   "execution_count": 29,
   "id": "d3041184",
   "metadata": {
    "id": "d3041184"
   },
   "outputs": [],
   "source": [
    "# Split the dependent variable in one array\n",
    "y = data.iloc[:,-1].values"
   ]
  },
  {
   "cell_type": "code",
   "execution_count": 30,
   "id": "b9942fd8",
   "metadata": {
    "id": "b9942fd8"
   },
   "outputs": [],
   "source": [
    "# Split the dataset into train and test based on the 70-30 ratio\n",
    "x_train,x_test,y_train,y_test = train_test_split(x,y,test_size=0.30)"
   ]
  },
  {
   "cell_type": "markdown",
   "id": "64c21646",
   "metadata": {
    "id": "64c21646"
   },
   "source": [
    "<a id=\"model\"></a>\n",
    "# 4. Creating the model on training dataset"
   ]
  },
  {
   "cell_type": "code",
   "execution_count": 31,
   "id": "253f6b63",
   "metadata": {
    "id": "253f6b63",
    "outputId": "b0473dc8-b049-45e8-b429-c57e655f8502"
   },
   "outputs": [],
   "source": [
    "# Apply the naive bayes on the training dataset\n",
    "GNBModel=GaussianNB().fit(x_train,y_train)"
   ]
  },
  {
   "cell_type": "markdown",
   "id": "1a4e67d2",
   "metadata": {
    "id": "1a4e67d2"
   },
   "source": [
    "<a id=\"test\"></a>\n",
    "# 5. Run the model on the Test Dataset"
   ]
  },
  {
   "cell_type": "code",
   "execution_count": 32,
   "id": "bb97496f",
   "metadata": {
    "id": "bb97496f"
   },
   "outputs": [],
   "source": [
    "# Run the model on the test dataset\n",
    "y_pred=GNBModel.predict(x_test)"
   ]
  },
  {
   "cell_type": "markdown",
   "id": "ebe62aac",
   "metadata": {
    "id": "ebe62aac"
   },
   "source": [
    "<a id=\"accscore\"></a>\n",
    "# 6.1. Accuracy Score"
   ]
  },
  {
   "cell_type": "code",
   "execution_count": 34,
   "id": "136bdb68",
   "metadata": {
    "id": "136bdb68",
    "outputId": "e0d19f55-b651-4f4c-e9eb-05afe723b59d"
   },
   "outputs": [
    {
     "data": {
      "text/plain": [
       "0.7482252721249408"
      ]
     },
     "execution_count": 34,
     "metadata": {},
     "output_type": "execute_result"
    }
   ],
   "source": [
    "# Check the accuracy on the testing dataset\n",
    "accuracy_score(y_test,y_pred)"
   ]
  },
  {
   "cell_type": "markdown",
   "id": "4b281ccf",
   "metadata": {
    "id": "4b281ccf"
   },
   "source": [
    "<a id=\"cm\"></a>\n",
    "# 6.2. Confusion Matrix"
   ]
  },
  {
   "cell_type": "code",
   "execution_count": 35,
   "id": "33bb236e",
   "metadata": {
    "id": "33bb236e",
    "outputId": "d9751680-cb62-42e8-aea5-a30b27f179b7"
   },
   "outputs": [
    {
     "data": {
      "image/png": "[encoded data removed]",
      "text/plain": [
       "<Figure size 640x480 with 2 Axes>"
      ]
     },
     "metadata": {},
     "output_type": "display_data"
    }
   ],
   "source": [
    "# Plot the confusion matrix plot to check the accuracy on the testing dataset\n",
    "con_mat=confusion_matrix(y_test,y_pred)\n",
    "con_display=ConfusionMatrixDisplay(con_mat)\n",
    "con_display.plot()\n",
    "plt.show()"
   ]
  },
  {
   "cell_type": "code",
   "execution_count": null,
   "id": "c1f525a8-ac4b-48e1-85de-661d8b7657dd",
   "metadata": {},
   "outputs": [],
   "source": []
  }
 ],
 "metadata": {
  "colab": {
   "provenance": []
  },
  "kernelspec": {
   "display_name": "Python 3 (ipykernel)",
   "language": "python",
   "name": "python3"
  },
  "language_info": {
   "codemirror_mode": {
    "name": "ipython",
    "version": 3
   },
   "file_extension": ".py",
   "mimetype": "text/x-python",
   "name": "python",
   "nbconvert_exporter": "python",
   "pygments_lexer": "ipython3",
   "version": "3.11.7"
  }
 },
 "nbformat": 4,
 "nbformat_minor": 5
}
