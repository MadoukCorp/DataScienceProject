{
 "cells": [
  {
   "cell_type": "markdown",
   "id": "b338bce5",
   "metadata": {},
   "source": [
    "## Problem Statement\n",
    "\n",
    "One of the companies maintains a database of the employees and their details. Based on this dataset the requirememt is to create the classification model using K Nearest Neighbour to predict if the employee will leave the company or not (attrition rate). There are around 1400+ records using this we need to create the model after breaking the data into test and train."
   ]
  },
  {
   "cell_type": "markdown",
   "id": "dd03dbf4",
   "metadata": {},
   "source": [
    "**Data Dictionary**\n",
    "\n",
    "**Age** - Age of the employee \n",
    "\n",
    "**Attrition** - Dependent variable, if employee will leave or not\n",
    "\n",
    "**BusinessTravel** - How frequently employee travels for business       \n",
    "\n",
    "**DailyRate** - Daily rate of an employee                    \n",
    "\n",
    "**Department** - Which department employee belongs to                  \n",
    "\n",
    "**DistanceFromHome** - How far employee stays from the office             \n",
    "\n",
    "**EducationField** - Education field of the employee              \n",
    "\n",
    "**EnvironmentSatisfaction** -  Rating of satisfaction     \n",
    "\n",
    "**Gender** -  Gender of an employee                     \n",
    "\n",
    "**HourlyRate** -  Hourly Rate of an employee                  \n",
    "\n",
    "**JobRole** - Job role of an employee                     \n",
    "\n",
    "**JobSatisfaction** - Job satisfaction rating              \n",
    "\n",
    "**MaritalStatus** - Marital status of an employee               \n",
    "\n",
    "**MonthlyIncome** - Monthly Income of an employee               \n",
    "\n",
    "**MonthlyRate** -  Monthly rate of an employee                 \n",
    "\n",
    "**NumCompaniesWorked** - Number of companies employee worked on                                 \n",
    "\n",
    "**OverTime** -  Is employee working overtime                   \n",
    "\n",
    "**PercentSalaryHike** - Percentage salary hike of an employee            \n",
    "\n",
    "**PerformanceRating** - Performance rating of an employee             \n",
    "\n",
    "**StandardHours** -  Standard working hours of an employee                            \n",
    "\n",
    "**TotalWorkingYears** - Total working years of an employee            \n",
    "\n",
    "**TrainingTimesLastYear** - Total training time        \n",
    "\n",
    "**WorkLifeBalance** -  Work life balance rating             \n",
    "\n",
    "**YearsAtCompany** - Years at the current company               \n",
    "\n",
    "**YearsInCurrentRole** - Years at the current role           \n",
    "\n",
    "**YearsSinceLastPromotion** - Year since last promotion      \n",
    "\n",
    "**YearsWithCurrManager** - Years with current manager         "
   ]
  },
  {
   "cell_type": "markdown",
   "id": "f16a4057",
   "metadata": {},
   "source": [
    "# Table of Content\n",
    "\n",
    "1. **[Import Libraries](#lib)**\n",
    "2. **[Data Preparation](#prep)**\n",
    "    - 2.1 - **[Understand the Data](#read)**\n",
    "    - 2.2 - **[Exploratory Data Analysis](#eda)**\n",
    "    - 2.3 - **[Missing Value Treatment](#null)**\n",
    "    - 2.4 - **[Encoding](#enc)**\n",
    "    - 2.5 - **[Feature Scaling](#scl)**\n",
    "3. **[Splitting the data into Train and Test](#sd)**\n",
    "4. **[Hyper-Parameter Tuning](#hp)**\n",
    "5. **[Cross Validation](#cv)**\n",
    "6. **[Creating the model on training dataset](#model)**\n",
    "7. **[Run the model on the Test Dataset](#test)**\n",
    "8. **[Check the accuracy of the model](#acc)**\n",
    "    - 8.1 - **[Accuracy Score](#accscore)**\n",
    "    - 8.2 - **[Confusion Matrix Display](#cm)**\n",
    "    - 8.3 - **[ROC Curve](#roc)**\n",
    "    - 8.4 - **[Classification Report](#f1score)**\n",
    "9. **[Comparing the Training and Testing Accuracies](#overunder)**"
   ]
  },
  {
   "cell_type": "markdown",
   "id": "dc7b1c6c",
   "metadata": {},
   "source": [
    "<a id=\"lib\"></a>\n",
    "# 1. Import Libraries"
   ]
  },
  {
   "cell_type": "code",
   "execution_count": null,
   "id": "78e5cb7c",
   "metadata": {},
   "outputs": [],
   "source": []
  },
  {
   "cell_type": "markdown",
   "id": "2ffa675e",
   "metadata": {},
   "source": [
    "<a id=\"prep\"></a>\n",
    "# 2. Data Preparation"
   ]
  },
  {
   "cell_type": "code",
   "execution_count": null,
   "id": "562b4203",
   "metadata": {},
   "outputs": [],
   "source": []
  },
  {
   "cell_type": "markdown",
   "id": "70cdf1f0",
   "metadata": {},
   "source": [
    "<a id=\"read\"></a>\n",
    "# 2.1. Understand the Data"
   ]
  },
  {
   "cell_type": "code",
   "execution_count": null,
   "id": "2bac8a30",
   "metadata": {},
   "outputs": [],
   "source": []
  },
  {
   "cell_type": "code",
   "execution_count": null,
   "id": "0491829d",
   "metadata": {},
   "outputs": [],
   "source": []
  },
  {
   "cell_type": "code",
   "execution_count": null,
   "id": "6a5ba0b8",
   "metadata": {},
   "outputs": [],
   "source": []
  },
  {
   "cell_type": "code",
   "execution_count": null,
   "id": "0c4edbad",
   "metadata": {},
   "outputs": [],
   "source": []
  },
  {
   "cell_type": "markdown",
   "id": "151798df",
   "metadata": {},
   "source": [
    "<a id=\"eda\"></a>\n",
    "# 2.2. Exploratory Data Analysis"
   ]
  },
  {
   "cell_type": "code",
   "execution_count": null,
   "id": "c071dc73",
   "metadata": {},
   "outputs": [],
   "source": []
  },
  {
   "cell_type": "markdown",
   "id": "61610164",
   "metadata": {},
   "source": [
    "**From the above plot we can say that employees who are travelling rare are more prone to leave the company**"
   ]
  },
  {
   "cell_type": "code",
   "execution_count": null,
   "id": "966b6108",
   "metadata": {},
   "outputs": [],
   "source": []
  },
  {
   "cell_type": "markdown",
   "id": "0d2ae410",
   "metadata": {},
   "source": [
    "**From the above plot we can say that the employees who are working in the R&D Department are more willing to leave the company**"
   ]
  },
  {
   "cell_type": "code",
   "execution_count": null,
   "id": "65d5c13d",
   "metadata": {},
   "outputs": [],
   "source": []
  },
  {
   "cell_type": "markdown",
   "id": "9468cf37",
   "metadata": {},
   "source": [
    "**From the above chart we can say that the employees who are having a life sciences and Medical background of education are more willing to leave the company**"
   ]
  },
  {
   "cell_type": "code",
   "execution_count": null,
   "id": "966103b3-06a6-4550-8728-993f4c60e1a9",
   "metadata": {},
   "outputs": [],
   "source": []
  },
  {
   "cell_type": "markdown",
   "id": "4824a1d0",
   "metadata": {},
   "source": [
    "**Employees who are not doing overtime are more prone to leave the company**"
   ]
  },
  {
   "cell_type": "markdown",
   "id": "bfd64112",
   "metadata": {},
   "source": [
    "<a id=\"null\"></a>\n",
    "# 2.3. Missing Value Treatment"
   ]
  },
  {
   "cell_type": "code",
   "execution_count": null,
   "id": "8c27a789",
   "metadata": {},
   "outputs": [],
   "source": []
  },
  {
   "cell_type": "code",
   "execution_count": 23,
   "id": "3fa188df",
   "metadata": {},
   "outputs": [],
   "source": [
    "#Missing Value Imputation - We can impute the missing values using the methods of mean, median and mode based on the various scenarios\n",
    "#When there is a numerical field we can populate the missing values using mean or median, \n",
    "#if there are outliers in the dataset we use to populate the missing values using median else mean\n",
    "#When we want to populate the missing values in the categorial files we go with mode as an option"
   ]
  },
  {
   "cell_type": "markdown",
   "id": "cbd3f394",
   "metadata": {},
   "source": [
    "<a id=\"enc\"></a>\n",
    "# 2.4. Encoding"
   ]
  },
  {
   "cell_type": "code",
   "execution_count": 22,
   "id": "35c283f1",
   "metadata": {},
   "outputs": [],
   "source": []
  },
  {
   "cell_type": "markdown",
   "id": "81ab87b6-bd39-46f0-ac83-02a5339ba9e2",
   "metadata": {},
   "source": [
    "<a id=\"scl\"></a>\n",
    "# 2.5. Feature Scaling"
   ]
  },
  {
   "cell_type": "code",
   "execution_count": null,
   "id": "1330ab26-a1ee-4197-b34f-4f026d97a8a7",
   "metadata": {},
   "outputs": [],
   "source": []
  },
  {
   "cell_type": "markdown",
   "id": "d034bd48",
   "metadata": {},
   "source": [
    "<a id=\"sd\"></a>\n",
    "# 3. Splitting the data into Train and Test"
   ]
  },
  {
   "cell_type": "code",
   "execution_count": 25,
   "id": "3c6ffd0d",
   "metadata": {},
   "outputs": [],
   "source": [
    "#Splitting all the independent variables in one array"
   ]
  },
  {
   "cell_type": "code",
   "execution_count": 26,
   "id": "d3041184",
   "metadata": {},
   "outputs": [],
   "source": [
    "#Splitting the dependent variable in one array"
   ]
  },
  {
   "cell_type": "code",
   "execution_count": 27,
   "id": "b9942fd8",
   "metadata": {},
   "outputs": [],
   "source": [
    "#Splitting the dataset into train and test based on the 70-30 ratio"
   ]
  },
  {
   "cell_type": "markdown",
   "id": "d442411f-c47f-4c5b-83d8-52097007d62f",
   "metadata": {},
   "source": [
    "<a id=\"hp\"></a>\n",
    "# 4. Hyper-Parameter Tuning"
   ]
  },
  {
   "cell_type": "code",
   "execution_count": null,
   "id": "e420c8ad-9034-4857-a43e-8527b41b1e31",
   "metadata": {},
   "outputs": [],
   "source": []
  },
  {
   "cell_type": "markdown",
   "id": "67558634-7aa0-41ad-a1ef-0b4066d0d87a",
   "metadata": {},
   "source": [
    "<a id=\"cv\"></a>\n",
    "# 5. Cross Validation"
   ]
  },
  {
   "cell_type": "code",
   "execution_count": null,
   "id": "db93cda6-3c34-4abd-8d85-d076522697a9",
   "metadata": {},
   "outputs": [],
   "source": []
  },
  {
   "cell_type": "markdown",
   "id": "64c21646",
   "metadata": {},
   "source": [
    "<a id=\"model\"></a>\n",
    "# 6. Creating the model on tuned training dataset"
   ]
  },
  {
   "cell_type": "code",
   "execution_count": null,
   "id": "253f6b63",
   "metadata": {},
   "outputs": [],
   "source": []
  },
  {
   "cell_type": "markdown",
   "id": "1a4e67d2",
   "metadata": {},
   "source": [
    "<a id=\"test\"></a>\n",
    "# 7. Run the model on the Test Dataset"
   ]
  },
  {
   "cell_type": "code",
   "execution_count": null,
   "id": "bb97496f",
   "metadata": {},
   "outputs": [],
   "source": []
  },
  {
   "cell_type": "markdown",
   "id": "4b0850cb",
   "metadata": {},
   "source": [
    "<a id=\"acc\"></a>\n",
    "# 8. Check the accuracy of the model"
   ]
  },
  {
   "cell_type": "code",
   "execution_count": 3,
   "id": "9e3245a0",
   "metadata": {},
   "outputs": [],
   "source": [
    "#Importing all performance checking measures"
   ]
  },
  {
   "cell_type": "markdown",
   "id": "ebe62aac",
   "metadata": {},
   "source": [
    "<a id=\"accscore\"></a>\n",
    "# 8.1. Accuracy Score"
   ]
  },
  {
   "cell_type": "code",
   "execution_count": null,
   "id": "136bdb68",
   "metadata": {},
   "outputs": [],
   "source": []
  },
  {
   "cell_type": "markdown",
   "id": "4b281ccf",
   "metadata": {},
   "source": [
    "<a id=\"cm\"></a>\n",
    "# 8.2. Confusion Matrix Display"
   ]
  },
  {
   "cell_type": "code",
   "execution_count": null,
   "id": "33bb236e",
   "metadata": {},
   "outputs": [],
   "source": []
  },
  {
   "cell_type": "markdown",
   "id": "cce5b1eb",
   "metadata": {},
   "source": [
    "<a id=\"roc\"></a>\n",
    "# 8.3. RO Curve"
   ]
  },
  {
   "cell_type": "code",
   "execution_count": null,
   "id": "f60789f4",
   "metadata": {},
   "outputs": [],
   "source": []
  },
  {
   "cell_type": "markdown",
   "id": "72fd3184",
   "metadata": {},
   "source": [
    "<a id=\"f1score\"></a>\n",
    "# 8.4. Classification Report"
   ]
  },
  {
   "cell_type": "code",
   "execution_count": null,
   "id": "b1e3ffc9",
   "metadata": {},
   "outputs": [],
   "source": []
  },
  {
   "cell_type": "markdown",
   "id": "ded6646d",
   "metadata": {},
   "source": [
    "<a id=\"overunder\"></a>\n",
    "# 9. Comparing the Training and Testing Accuracies"
   ]
  },
  {
   "cell_type": "code",
   "execution_count": null,
   "id": "45527f7c",
   "metadata": {},
   "outputs": [],
   "source": []
  },
  {
   "cell_type": "code",
   "execution_count": 4,
   "id": "d367330f",
   "metadata": {},
   "outputs": [],
   "source": [
    "#Checking the accuracy of training dataset \n"
   ]
  },
  {
   "cell_type": "code",
   "execution_count": 5,
   "id": "01c6d67f",
   "metadata": {},
   "outputs": [],
   "source": [
    "#Checking the accuracy of testing dataset\n"
   ]
  },
  {
   "cell_type": "markdown",
   "id": "0c1e6b2d",
   "metadata": {},
   "source": [
    "**Conclusion:** As there is very less difference between the accuracy of training and testing dataset we are good to go with the model"
   ]
  }
 ],
 "metadata": {
  "kernelspec": {
   "display_name": "Python 3 (ipykernel)",
   "language": "python",
   "name": "python3"
  },
  "language_info": {
   "codemirror_mode": {
    "name": "ipython",
    "version": 3
   },
   "file_extension": ".py",
   "mimetype": "text/x-python",
   "name": "python",
   "nbconvert_exporter": "python",
   "pygments_lexer": "ipython3",
   "version": "3.11.7"
  }
 },
 "nbformat": 4,
 "nbformat_minor": 5
}
